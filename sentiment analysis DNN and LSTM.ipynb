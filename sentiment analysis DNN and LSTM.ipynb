{
 "cells": [
  {
   "cell_type": "markdown",
   "metadata": {},
   "source": [
    "### import libraries"
   ]
  },
  {
   "cell_type": "code",
   "execution_count": 4,
   "metadata": {},
   "outputs": [],
   "source": [
    "import numpy as np\n",
    "import pandas as pd"
   ]
  },
  {
   "cell_type": "markdown",
   "metadata": {},
   "source": [
    "#### Read the Dataset"
   ]
  },
  {
   "cell_type": "code",
   "execution_count": 5,
   "metadata": {},
   "outputs": [],
   "source": [
    "data = pd.read_csv(r'D:\\Data Analytics CSE4027\\Project\\zomato.csv')"
   ]
  },
  {
   "cell_type": "code",
   "execution_count": 6,
   "metadata": {
    "scrolled": true
   },
   "outputs": [
    {
     "data": {
      "text/html": [
       "<div>\n",
       "<style scoped>\n",
       "    .dataframe tbody tr th:only-of-type {\n",
       "        vertical-align: middle;\n",
       "    }\n",
       "\n",
       "    .dataframe tbody tr th {\n",
       "        vertical-align: top;\n",
       "    }\n",
       "\n",
       "    .dataframe thead th {\n",
       "        text-align: right;\n",
       "    }\n",
       "</style>\n",
       "<table border=\"1\" class=\"dataframe\">\n",
       "  <thead>\n",
       "    <tr style=\"text-align: right;\">\n",
       "      <th></th>\n",
       "      <th>url</th>\n",
       "      <th>address</th>\n",
       "      <th>name</th>\n",
       "      <th>online_order</th>\n",
       "      <th>book_table</th>\n",
       "      <th>rate</th>\n",
       "      <th>votes</th>\n",
       "      <th>phone</th>\n",
       "      <th>location</th>\n",
       "      <th>rest_type</th>\n",
       "      <th>dish_liked</th>\n",
       "      <th>cuisines</th>\n",
       "      <th>approx_cost(for two people)</th>\n",
       "      <th>reviews_list</th>\n",
       "      <th>menu_item</th>\n",
       "      <th>listed_in(type)</th>\n",
       "      <th>listed_in(city)</th>\n",
       "    </tr>\n",
       "  </thead>\n",
       "  <tbody>\n",
       "    <tr>\n",
       "      <th>0</th>\n",
       "      <td>https://www.zomato.com/bangalore/jalsa-banasha...</td>\n",
       "      <td>942, 21st Main Road, 2nd Stage, Banashankari, ...</td>\n",
       "      <td>Jalsa</td>\n",
       "      <td>Yes</td>\n",
       "      <td>Yes</td>\n",
       "      <td>4.1/5</td>\n",
       "      <td>775</td>\n",
       "      <td>080 42297555\\r\\n+91 9743772233</td>\n",
       "      <td>Banashankari</td>\n",
       "      <td>Casual Dining</td>\n",
       "      <td>Pasta, Lunch Buffet, Masala Papad, Paneer Laja...</td>\n",
       "      <td>North Indian, Mughlai, Chinese</td>\n",
       "      <td>800</td>\n",
       "      <td>[('Rated 4.0', 'RATED\\n  A beautiful place to ...</td>\n",
       "      <td>[]</td>\n",
       "      <td>Buffet</td>\n",
       "      <td>Banashankari</td>\n",
       "    </tr>\n",
       "    <tr>\n",
       "      <th>1</th>\n",
       "      <td>https://www.zomato.com/bangalore/spice-elephan...</td>\n",
       "      <td>2nd Floor, 80 Feet Road, Near Big Bazaar, 6th ...</td>\n",
       "      <td>Spice Elephant</td>\n",
       "      <td>Yes</td>\n",
       "      <td>No</td>\n",
       "      <td>4.1/5</td>\n",
       "      <td>787</td>\n",
       "      <td>080 41714161</td>\n",
       "      <td>Banashankari</td>\n",
       "      <td>Casual Dining</td>\n",
       "      <td>Momos, Lunch Buffet, Chocolate Nirvana, Thai G...</td>\n",
       "      <td>Chinese, North Indian, Thai</td>\n",
       "      <td>800</td>\n",
       "      <td>[('Rated 4.0', 'RATED\\n  Had been here for din...</td>\n",
       "      <td>[]</td>\n",
       "      <td>Buffet</td>\n",
       "      <td>Banashankari</td>\n",
       "    </tr>\n",
       "    <tr>\n",
       "      <th>2</th>\n",
       "      <td>https://www.zomato.com/SanchurroBangalore?cont...</td>\n",
       "      <td>1112, Next to KIMS Medical College, 17th Cross...</td>\n",
       "      <td>San Churro Cafe</td>\n",
       "      <td>Yes</td>\n",
       "      <td>No</td>\n",
       "      <td>3.8/5</td>\n",
       "      <td>918</td>\n",
       "      <td>+91 9663487993</td>\n",
       "      <td>Banashankari</td>\n",
       "      <td>Cafe, Casual Dining</td>\n",
       "      <td>Churros, Cannelloni, Minestrone Soup, Hot Choc...</td>\n",
       "      <td>Cafe, Mexican, Italian</td>\n",
       "      <td>800</td>\n",
       "      <td>[('Rated 3.0', \"RATED\\n  Ambience is not that ...</td>\n",
       "      <td>[]</td>\n",
       "      <td>Buffet</td>\n",
       "      <td>Banashankari</td>\n",
       "    </tr>\n",
       "    <tr>\n",
       "      <th>3</th>\n",
       "      <td>https://www.zomato.com/bangalore/addhuri-udupi...</td>\n",
       "      <td>1st Floor, Annakuteera, 3rd Stage, Banashankar...</td>\n",
       "      <td>Addhuri Udupi Bhojana</td>\n",
       "      <td>No</td>\n",
       "      <td>No</td>\n",
       "      <td>3.7/5</td>\n",
       "      <td>88</td>\n",
       "      <td>+91 9620009302</td>\n",
       "      <td>Banashankari</td>\n",
       "      <td>Quick Bites</td>\n",
       "      <td>Masala Dosa</td>\n",
       "      <td>South Indian, North Indian</td>\n",
       "      <td>300</td>\n",
       "      <td>[('Rated 4.0', \"RATED\\n  Great food and proper...</td>\n",
       "      <td>[]</td>\n",
       "      <td>Buffet</td>\n",
       "      <td>Banashankari</td>\n",
       "    </tr>\n",
       "    <tr>\n",
       "      <th>4</th>\n",
       "      <td>https://www.zomato.com/bangalore/grand-village...</td>\n",
       "      <td>10, 3rd Floor, Lakshmi Associates, Gandhi Baza...</td>\n",
       "      <td>Grand Village</td>\n",
       "      <td>No</td>\n",
       "      <td>No</td>\n",
       "      <td>3.8/5</td>\n",
       "      <td>166</td>\n",
       "      <td>+91 8026612447\\r\\n+91 9901210005</td>\n",
       "      <td>Basavanagudi</td>\n",
       "      <td>Casual Dining</td>\n",
       "      <td>Panipuri, Gol Gappe</td>\n",
       "      <td>North Indian, Rajasthani</td>\n",
       "      <td>600</td>\n",
       "      <td>[('Rated 4.0', 'RATED\\n  Very good restaurant ...</td>\n",
       "      <td>[]</td>\n",
       "      <td>Buffet</td>\n",
       "      <td>Banashankari</td>\n",
       "    </tr>\n",
       "  </tbody>\n",
       "</table>\n",
       "</div>"
      ],
      "text/plain": [
       "                                                 url  \\\n",
       "0  https://www.zomato.com/bangalore/jalsa-banasha...   \n",
       "1  https://www.zomato.com/bangalore/spice-elephan...   \n",
       "2  https://www.zomato.com/SanchurroBangalore?cont...   \n",
       "3  https://www.zomato.com/bangalore/addhuri-udupi...   \n",
       "4  https://www.zomato.com/bangalore/grand-village...   \n",
       "\n",
       "                                             address                   name  \\\n",
       "0  942, 21st Main Road, 2nd Stage, Banashankari, ...                  Jalsa   \n",
       "1  2nd Floor, 80 Feet Road, Near Big Bazaar, 6th ...         Spice Elephant   \n",
       "2  1112, Next to KIMS Medical College, 17th Cross...        San Churro Cafe   \n",
       "3  1st Floor, Annakuteera, 3rd Stage, Banashankar...  Addhuri Udupi Bhojana   \n",
       "4  10, 3rd Floor, Lakshmi Associates, Gandhi Baza...          Grand Village   \n",
       "\n",
       "  online_order book_table   rate  votes                             phone  \\\n",
       "0          Yes        Yes  4.1/5    775    080 42297555\\r\\n+91 9743772233   \n",
       "1          Yes         No  4.1/5    787                      080 41714161   \n",
       "2          Yes         No  3.8/5    918                    +91 9663487993   \n",
       "3           No         No  3.7/5     88                    +91 9620009302   \n",
       "4           No         No  3.8/5    166  +91 8026612447\\r\\n+91 9901210005   \n",
       "\n",
       "       location            rest_type  \\\n",
       "0  Banashankari        Casual Dining   \n",
       "1  Banashankari        Casual Dining   \n",
       "2  Banashankari  Cafe, Casual Dining   \n",
       "3  Banashankari          Quick Bites   \n",
       "4  Basavanagudi        Casual Dining   \n",
       "\n",
       "                                          dish_liked  \\\n",
       "0  Pasta, Lunch Buffet, Masala Papad, Paneer Laja...   \n",
       "1  Momos, Lunch Buffet, Chocolate Nirvana, Thai G...   \n",
       "2  Churros, Cannelloni, Minestrone Soup, Hot Choc...   \n",
       "3                                        Masala Dosa   \n",
       "4                                Panipuri, Gol Gappe   \n",
       "\n",
       "                         cuisines approx_cost(for two people)  \\\n",
       "0  North Indian, Mughlai, Chinese                         800   \n",
       "1     Chinese, North Indian, Thai                         800   \n",
       "2          Cafe, Mexican, Italian                         800   \n",
       "3      South Indian, North Indian                         300   \n",
       "4        North Indian, Rajasthani                         600   \n",
       "\n",
       "                                        reviews_list menu_item  \\\n",
       "0  [('Rated 4.0', 'RATED\\n  A beautiful place to ...        []   \n",
       "1  [('Rated 4.0', 'RATED\\n  Had been here for din...        []   \n",
       "2  [('Rated 3.0', \"RATED\\n  Ambience is not that ...        []   \n",
       "3  [('Rated 4.0', \"RATED\\n  Great food and proper...        []   \n",
       "4  [('Rated 4.0', 'RATED\\n  Very good restaurant ...        []   \n",
       "\n",
       "  listed_in(type) listed_in(city)  \n",
       "0          Buffet    Banashankari  \n",
       "1          Buffet    Banashankari  \n",
       "2          Buffet    Banashankari  \n",
       "3          Buffet    Banashankari  \n",
       "4          Buffet    Banashankari  "
      ]
     },
     "execution_count": 6,
     "metadata": {},
     "output_type": "execute_result"
    }
   ],
   "source": [
    "data.head()"
   ]
  },
  {
   "cell_type": "code",
   "execution_count": 7,
   "metadata": {},
   "outputs": [],
   "source": [
    "data_review= data['reviews_list']"
   ]
  },
  {
   "cell_type": "code",
   "execution_count": 8,
   "metadata": {},
   "outputs": [],
   "source": [
    "x=[]\n",
    "y=[]\n",
    "\n",
    "#here we tokenize the rating string and the review string\n",
    "#loop over all the rows\n",
    "\n",
    "for row_num in range(0,51717):\n",
    "    #split the review text at the \" (' \"\n",
    "    lst= data_review[row_num].split(\"('\")\n",
    "    for i in lst:\n",
    "        if len(i) > 5:\n",
    "            if i.find(\"',\") != -1:\n",
    "                single_rev= i.split(\"',\")\n",
    "                if len(single_rev[0]) >2:\n",
    "                    x.append(single_rev[0])\n",
    "                if len(single_rev[1]) >2:\n",
    "                    y.append(single_rev[1])"
   ]
  },
  {
   "cell_type": "markdown",
   "metadata": {},
   "source": [
    "### Preprocessing -1"
   ]
  },
  {
   "cell_type": "code",
   "execution_count": 9,
   "metadata": {},
   "outputs": [
    {
     "name": "stderr",
     "output_type": "stream",
     "text": [
      "[nltk_data] Downloading package stopwords to\n",
      "[nltk_data]     C:\\Users\\91630\\AppData\\Roaming\\nltk_data...\n",
      "[nltk_data]   Package stopwords is already up-to-date!\n"
     ]
    }
   ],
   "source": [
    "import nltk\n",
    "nltk.download(\"stopwords\")\n",
    "from nltk.corpus import stopwords\n",
    "from nltk.stem.porter import PorterStemmer\n",
    "ps= PorterStemmer()\n",
    "\n",
    "#to store the final rating\n",
    "rating_final =[]\n",
    "#to store the cleaned reivews\n",
    "review_final =[]"
   ]
  },
  {
   "cell_type": "code",
   "execution_count": 10,
   "metadata": {},
   "outputs": [],
   "source": [
    "#the rating string contains words and numbers\n",
    "#so we tokenize the numbers only from it and change into float\n",
    "#i.e. Rating:4.0 --> 4.0\n",
    "#also for rating below 2.5 store as POOR\n",
    "#for rating between 2.5 and 3.5 store as AVERAGE\n",
    "#for rating above 3.5 store as GOOD\n",
    "\n",
    "import re\n",
    "for loop in range(0,40000):\n",
    "    data_x= x[loop]\n",
    "    data_x= re.sub('[a-zA-Z]',\" \", data_x)\n",
    "    data_x= data_x.split()\n",
    "    data_x= ''.join(data_x)\n",
    "    data_x= float(data_x)\n",
    "    if data_x < 2.5:\n",
    "        rating_final.append(\"POOR\")\n",
    "    elif data_x>=2.5 and data_x<=3.5:\n",
    "        rating_final.append(\"AVERAGE\")\n",
    "    elif data_x>3.5:\n",
    "        rating_final.append(\"GOOD\")"
   ]
  },
  {
   "cell_type": "markdown",
   "metadata": {},
   "source": [
    "### Preprocessing-2"
   ]
  },
  {
   "cell_type": "code",
   "execution_count": 11,
   "metadata": {},
   "outputs": [],
   "source": [
    "#label encode the ratings and OneHotEncode for the classification\n",
    "#as our x column has textual values we hav eto binarise these texual values \n",
    "#so we first convert textual data to integer encoding using label encoder\n",
    "\n",
    "from sklearn.preprocessing import LabelEncoder\n",
    "le= LabelEncoder()\n",
    "rating_final= le.fit_transform(rating_final)\n",
    "#now convert the rating column in to arrays and expand its dimensions to 2D array\n",
    "rating_final= np.array(rating_final)\n",
    "rating_final= np.expand_dims(rating_final, axis=1)\n",
    "#now convert the integer encoding in to binary values\n",
    "from sklearn.preprocessing import OneHotEncoder\n",
    "one= OneHotEncoder()\n",
    "rates= one.fit_transform(rating_final).toarray()"
   ]
  },
  {
   "cell_type": "code",
   "execution_count": 12,
   "metadata": {},
   "outputs": [],
   "source": [
    "#here the unnecessary stopwords from the reviews lists\n",
    "#stemming operations are also done here\n",
    "\n",
    "\n",
    "for loop in range(0,40000):\n",
    "    data_y= y[loop]\n",
    "    data_y= re.sub('[^a-zA-Z]', \" \",data_y)\n",
    "    data_y= data_y.split()\n",
    "    data_y= [ps.stem(word) for word in data_y if not word in set(stopwords.words('english'))]\n",
    "    data_y= ' '.join(data_y)\n",
    "    review_final.append(data_y)"
   ]
  },
  {
   "cell_type": "markdown",
   "metadata": {},
   "source": [
    "### Preprocessing-3"
   ]
  },
  {
   "cell_type": "code",
   "execution_count": 13,
   "metadata": {},
   "outputs": [],
   "source": [
    "#count vectorize the reviews according to the unique words\n",
    "\n",
    "from sklearn.feature_extraction.text import CountVectorizer\n",
    "cv= CountVectorizer(max_features = 20000)\n",
    "x_final= cv.fit_transform(review_final).toarray()\n",
    "\n",
    "#saving the vectorizer which would be used as dictionary\n",
    "import pickle\n",
    "pickle.dump(cv, open('cv.pkl','wb'))"
   ]
  },
  {
   "cell_type": "code",
   "execution_count": 14,
   "metadata": {},
   "outputs": [],
   "source": [
    "#Splitting the data into test and train sets\n",
    "from sklearn.model_selection import train_test_split\n",
    "x_train,x_test,y_train,y_test = train_test_split(x_final,rates,test_size=0.2, random_state=0)"
   ]
  },
  {
   "cell_type": "code",
   "execution_count": 15,
   "metadata": {},
   "outputs": [
    {
     "data": {
      "text/plain": [
       "array([[0, 0, 0, ..., 0, 0, 0],\n",
       "       [0, 0, 0, ..., 0, 0, 0],\n",
       "       [0, 0, 0, ..., 0, 0, 0],\n",
       "       ...,\n",
       "       [0, 0, 0, ..., 0, 0, 0],\n",
       "       [0, 0, 0, ..., 0, 0, 0],\n",
       "       [0, 0, 0, ..., 0, 0, 0]], dtype=int64)"
      ]
     },
     "execution_count": 15,
     "metadata": {},
     "output_type": "execute_result"
    }
   ],
   "source": [
    "x_train"
   ]
  },
  {
   "cell_type": "code",
   "execution_count": 16,
   "metadata": {},
   "outputs": [
    {
     "data": {
      "text/plain": [
       "array([[1., 0., 0.],\n",
       "       [1., 0., 0.],\n",
       "       [0., 1., 0.],\n",
       "       ...,\n",
       "       [1., 0., 0.],\n",
       "       [1., 0., 0.],\n",
       "       [0., 0., 1.]])"
      ]
     },
     "execution_count": 16,
     "metadata": {},
     "output_type": "execute_result"
    }
   ],
   "source": [
    "y_train"
   ]
  },
  {
   "attachments": {
    "Screenshot%20%28541%29.png": {
     "image/png": "[encoded data removed]"
    }
   },
   "cell_type": "markdown",
   "metadata": {},
   "source": [
    "![Screenshot%20%28541%29.png](attachment:Screenshot%20%28541%29.png)"
   ]
  },
  {
   "cell_type": "markdown",
   "metadata": {},
   "source": [
    "#### label encoding:\n",
    " \n",
    "     AVERAGE:0   \n",
    " \n",
    "     GOOD:1   \n",
    " \n",
    "     POOR:2\n",
    "\n",
    "#### OneHotEncoding:\n",
    "\n",
    "    AVERAGE: 1 0 0 \n",
    "\n",
    "    GOOD:    0 1 0\n",
    "\n",
    "    POOR:    0 0 1"
   ]
  },
  {
   "cell_type": "code",
   "execution_count": null,
   "metadata": {},
   "outputs": [],
   "source": [
    "import keras\n",
    "import tensorflow-gpu"
   ]
  },
  {
   "cell_type": "code",
   "execution_count": 3,
   "metadata": {},
   "outputs": [],
   "source": [
    "from tensorflow.keras.models import Sequential\n",
    "from tensorflow.keras.layers import Dense, LSTM, Dropout, GRU, Bidirectional, Embedding, SpatialDropout1D\n",
    "from tensorflow.keras.optimizers import SGD\n",
    "#import math\n",
    "from sklearn.metrics import mean_squared_error"
   ]
  },
  {
   "cell_type": "markdown",
   "metadata": {},
   "source": [
    "# Model building 1 - DNN"
   ]
  },
  {
   "cell_type": "code",
   "execution_count": 16,
   "metadata": {},
   "outputs": [
    {
     "name": "stdout",
     "output_type": "stream",
     "text": [
      "Epoch 1/50\n",
      "250/250 [==============================] - 235s 930ms/step - loss: 1.1646 - accuracy: 0.4717\n",
      "Epoch 2/50\n",
      "250/250 [==============================] - 238s 951ms/step - loss: 1.0510 - accuracy: 0.4801\n",
      "Epoch 3/50\n",
      "250/250 [==============================] - 217s 870ms/step - loss: 1.0510 - accuracy: 0.4821\n",
      "Epoch 4/50\n",
      "250/250 [==============================] - 216s 865ms/step - loss: 1.0546 - accuracy: 0.4773\n",
      "Epoch 5/50\n",
      "250/250 [==============================] - 228s 913ms/step - loss: 1.0529 - accuracy: 0.4794\n",
      "Epoch 6/50\n",
      "250/250 [==============================] - 214s 856ms/step - loss: 1.0512 - accuracy: 0.4850\n",
      "Epoch 7/50\n",
      "250/250 [==============================] - 210s 839ms/step - loss: 1.0489 - accuracy: 0.4854\n",
      "Epoch 8/50\n",
      "250/250 [==============================] - 209s 838ms/step - loss: 1.0462 - accuracy: 0.4873\n",
      "Epoch 9/50\n",
      "250/250 [==============================] - 213s 850ms/step - loss: 1.0495 - accuracy: 0.4839\n",
      "Epoch 10/50\n",
      "250/250 [==============================] - 211s 845ms/step - loss: 1.0438 - accuracy: 0.4887\n",
      "Epoch 11/50\n",
      "250/250 [==============================] - 210s 840ms/step - loss: 1.0428 - accuracy: 0.4921\n",
      "Epoch 12/50\n",
      "250/250 [==============================] - 211s 845ms/step - loss: 1.0420 - accuracy: 0.4900\n",
      "Epoch 13/50\n",
      "250/250 [==============================] - 212s 848ms/step - loss: 1.0428 - accuracy: 0.4921\n",
      "Epoch 14/50\n",
      "250/250 [==============================] - 210s 840ms/step - loss: 1.0418 - accuracy: 0.4915\n",
      "Epoch 15/50\n",
      "250/250 [==============================] - 243s 973ms/step - loss: 1.0410 - accuracy: 0.4921\n",
      "Epoch 16/50\n",
      "250/250 [==============================] - 211s 844ms/step - loss: 1.0404 - accuracy: 0.4907\n",
      "Epoch 17/50\n",
      "250/250 [==============================] - 214s 854ms/step - loss: 1.0393 - accuracy: 0.4921\n",
      "Epoch 18/50\n",
      "250/250 [==============================] - 212s 848ms/step - loss: 1.0379 - accuracy: 0.4921\n",
      "Epoch 19/50\n",
      "250/250 [==============================] - 212s 847ms/step - loss: 1.0375 - accuracy: 0.4921\n",
      "Epoch 20/50\n",
      "250/250 [==============================] - 211s 845ms/step - loss: 1.0374 - accuracy: 0.4921\n",
      "Epoch 21/50\n",
      "250/250 [==============================] - 213s 850ms/step - loss: 1.0372 - accuracy: 0.4921\n",
      "Epoch 22/50\n",
      "250/250 [==============================] - 212s 846ms/step - loss: 1.0373 - accuracy: 0.4921\n",
      "Epoch 23/50\n",
      "250/250 [==============================] - 211s 846ms/step - loss: 1.0370 - accuracy: 0.4921\n",
      "Epoch 24/50\n",
      "250/250 [==============================] - 212s 849ms/step - loss: 1.0369 - accuracy: 0.4921\n",
      "Epoch 25/50\n",
      "250/250 [==============================] - 213s 854ms/step - loss: 1.0370 - accuracy: 0.4921\n",
      "Epoch 26/50\n",
      "250/250 [==============================] - 213s 852ms/step - loss: 1.0367 - accuracy: 0.4921\n",
      "Epoch 27/50\n",
      "250/250 [==============================] - 212s 848ms/step - loss: 1.0367 - accuracy: 0.4921\n",
      "Epoch 28/50\n",
      "250/250 [==============================] - 212s 847ms/step - loss: 1.0370 - accuracy: 0.4921\n",
      "Epoch 29/50\n",
      "250/250 [==============================] - 211s 845ms/step - loss: 1.0368 - accuracy: 0.4921\n",
      "Epoch 30/50\n",
      "250/250 [==============================] - 213s 851ms/step - loss: 1.0366 - accuracy: 0.4921\n",
      "Epoch 31/50\n",
      "250/250 [==============================] - 214s 854ms/step - loss: 1.0367 - accuracy: 0.4921\n",
      "Epoch 32/50\n",
      "250/250 [==============================] - 212s 848ms/step - loss: 1.0366 - accuracy: 0.4921\n",
      "Epoch 33/50\n",
      "250/250 [==============================] - 211s 846ms/step - loss: 1.0368 - accuracy: 0.4921\n",
      "Epoch 34/50\n",
      "250/250 [==============================] - 213s 850ms/step - loss: 1.0367 - accuracy: 0.4921\n",
      "Epoch 35/50\n",
      "250/250 [==============================] - 212s 850ms/step - loss: 1.0368 - accuracy: 0.4921\n",
      "Epoch 36/50\n",
      "250/250 [==============================] - 211s 846ms/step - loss: 1.0367 - accuracy: 0.4921\n",
      "Epoch 37/50\n",
      "250/250 [==============================] - 211s 844ms/step - loss: 1.0370 - accuracy: 0.4921\n",
      "Epoch 38/50\n",
      "250/250 [==============================] - 212s 846ms/step - loss: 1.0368 - accuracy: 0.4921\n",
      "Epoch 39/50\n",
      "250/250 [==============================] - 213s 851ms/step - loss: 1.0365 - accuracy: 0.4921\n",
      "Epoch 40/50\n",
      "250/250 [==============================] - 212s 848ms/step - loss: 1.0368 - accuracy: 0.4921\n",
      "Epoch 41/50\n",
      "250/250 [==============================] - 211s 843ms/step - loss: 1.0368 - accuracy: 0.4921\n",
      "Epoch 42/50\n",
      "250/250 [==============================] - 221s 884ms/step - loss: 1.0368 - accuracy: 0.4921\n",
      "Epoch 43/50\n",
      "250/250 [==============================] - 224s 895ms/step - loss: 1.0368 - accuracy: 0.4921\n",
      "Epoch 44/50\n",
      "250/250 [==============================] - 221s 883ms/step - loss: 1.0367 - accuracy: 0.4921\n",
      "Epoch 45/50\n",
      "250/250 [==============================] - 214s 856ms/step - loss: 1.0367 - accuracy: 0.4921\n",
      "Epoch 46/50\n",
      "250/250 [==============================] - 212s 850ms/step - loss: 1.0367 - accuracy: 0.4921\n",
      "Epoch 47/50\n",
      "250/250 [==============================] - 213s 850ms/step - loss: 1.0364 - accuracy: 0.4921\n",
      "Epoch 48/50\n",
      "250/250 [==============================] - 215s 860ms/step - loss: 1.0366 - accuracy: 0.4921\n",
      "Epoch 49/50\n",
      "250/250 [==============================] - 225s 901ms/step - loss: 1.0367 - accuracy: 0.4921\n",
      "Epoch 50/50\n",
      "250/250 [==============================] - 222s 887ms/step - loss: 1.0366 - accuracy: 0.4921\n"
     ]
    },
    {
     "data": {
      "text/plain": [
       "<tensorflow.python.keras.callbacks.History at 0x19674ea5ac8>"
      ]
     },
     "execution_count": 16,
     "metadata": {},
     "output_type": "execute_result"
    }
   ],
   "source": [
    "modelDN = Sequential()\n",
    "modelDN.add(Dense(units = 13264, kernel_initializer  = 'random_uniform', activation= 'sigmoid'))\n",
    "modelDN.add(Dense(units = 2000, kernel_initializer  = 'random_uniform', activation= 'sigmoid'))\n",
    "modelDN.add(Dense(units = 2000, kernel_initializer  = 'random_uniform', activation= 'sigmoid'))\n",
    "modelDN.add(Dense(units = 2000, kernel_initializer  = 'random_uniform', activation= 'sigmoid'))\n",
    "modelDN.add(Dense(units = 3, kernel_initializer  = 'random_uniform', activation= 'softmax'))\n",
    "modelDN.compile(optimizer= 'adam', loss = 'categorical_crossentropy',metrics=['accuracy'])\n",
    "modelDN.fit(x_train,y_train,batch_size =128,epochs=50)"
   ]
  },
  {
   "cell_type": "markdown",
   "metadata": {},
   "source": [
    "#### The DNN model suffers from Vanishing Gradient Descent problem. So using LSTM model for the Sentiment analysis."
   ]
  },
  {
   "cell_type": "markdown",
   "metadata": {},
   "source": [
    "# Model building 2 - LSTM (Long Short Term Memory)"
   ]
  },
  {
   "cell_type": "code",
   "execution_count": 17,
   "metadata": {},
   "outputs": [
    {
     "name": "stdout",
     "output_type": "stream",
     "text": [
      "Model: \"sequential\"\n",
      "_________________________________________________________________\n",
      "Layer (type)                 Output Shape              Param #   \n",
      "=================================================================\n",
      "embedding (Embedding)        (None, 13354, 32)         96000     \n",
      "_________________________________________________________________\n",
      "lstm (LSTM)                  (None, 32)                8320      \n",
      "_________________________________________________________________\n",
      "dense (Dense)                (None, 3)                 99        \n",
      "=================================================================\n",
      "Total params: 104,419\n",
      "Trainable params: 104,419\n",
      "Non-trainable params: 0\n",
      "_________________________________________________________________\n"
     ]
    }
   ],
   "source": [
    "#Model prep\n",
    "modelLSTM=Sequential()\n",
    "modelLSTM.add(Embedding(3000,32,input_length=x_train.shape[1]))\n",
    "modelLSTM.add(LSTM(32,dropout=0.33,recurrent_dropout=0.2))\n",
    "#modelLSTM.add(LSTM(16,dropout=0.1,recurrent_dropout=0.1))\n",
    "modelLSTM.add(Dense(3,activation='softmax'))\n",
    "modelLSTM.compile(loss='categorical_crossentropy',optimizer='adam',metrics=['accuracy'])\n",
    "modelLSTM.summary()\n"
   ]
  },
  {
   "cell_type": "code",
   "execution_count": null,
   "metadata": {},
   "outputs": [
    {
     "name": "stdout",
     "output_type": "stream",
     "text": [
      "Epoch 1/5\n"
     ]
    }
   ],
   "source": [
    "history=modelLSTM.fit(x_train,y_train,verbose=2,batch_size=1600,epochs=5,validation_split=0.33)"
   ]
  },
  {
   "cell_type": "code",
   "execution_count": null,
   "metadata": {},
   "outputs": [],
   "source": [
    "#Choosing a certain validation size\n",
    "valid=2000 #Validating on 2000 rows of the test set\n",
    "X_validate=x_train[-valid:]\n",
    "Y_validate=y_train[-valid:]\n",
    "score,acc=modelLSTM.evaluate(X_validate,Y_validate,verbose=2,batch_size=1600)\n",
    "score_test,acc_test=modelLSTM.evaluate(X_test,Y_test,verbose=2,batch_size=1600)"
   ]
  },
  {
   "cell_type": "code",
   "execution_count": null,
   "metadata": {},
   "outputs": [],
   "source": []
  },
  {
   "cell_type": "code",
   "execution_count": null,
   "metadata": {},
   "outputs": [],
   "source": []
  }
 ],
 "metadata": {
  "kernelspec": {
   "display_name": "Python 3",
   "language": "python",
   "name": "python3"
  }
 },
 "nbformat": 4,
 "nbformat_minor": 2
}
